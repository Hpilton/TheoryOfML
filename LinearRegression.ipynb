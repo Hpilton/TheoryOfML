{
 "cells": [
  {
   "cell_type": "markdown",
   "source": [
    "# Методы восстановления регрессии\n",
    "\n",
    "Задачу обучения по прецедентам при $Y=\\mathbb{R}$ принято называть задачей восстановления регрессии. Задано пространство объектов X и множество возможных ответов Y. Существует неизвестная целевая зависимость $y^*:X\\rightarrow Y$ , значения которой известны только на объектах обучающей выборки $X^\\ell = (x_i, y_i)_{i-1}^\\ell, y_i = y^* (x_i)$. Требуется построить алгоритм, который в данной задаче принято называть \"функцией регрессии\" $a: X^* \\rightarrow Y$ , аппроксимирующий целевую зависимость $y^*$."
   ],
   "metadata": {
    "collapsed": false
   }
  },
  {
   "cell_type": "markdown",
   "source": [
    " ## Линейная регрессия\n",
    " \n",
    " Будем работать на примере датасета  основанным  на ценах жилья в Бостоне.\n",
    "Для начала импортируем нужные для работы библиотеки.\n",
    "Сравнивать score будем используя mean_squared_error из sklearn."
   ],
   "metadata": {
    "collapsed": false
   }
  },
  {
   "cell_type": "code",
   "execution_count": 252,
   "outputs": [],
   "source": [
    "import pandas as pd\n",
    "from numpy.linalg import inv\n",
    "from matplotlib import pyplot\n",
    "import numpy as np\n",
    "from sklearn.datasets import load_boston\n",
    "from sklearn.metrics import mean_squared_error\n",
    "boston_dataset = load_boston()\n",
    "\n"
   ],
   "metadata": {
    "collapsed": false,
    "pycharm": {
     "name": "#%%\n",
     "is_executing": false
    }
   }
  },
  {
   "cell_type": "markdown",
   "source": [
    "Для визуализации решим задачу регрессии исопльзуя один признак  датасета:\n",
    "Решение нормальной системы\n",
    "\n",
    "Линейной моделью регресси называется уравнение вида – $\\phi(x, \\alpha)=\\sum_{i=1}^n \\alpha_j \\cdot f_j(x)$. $F$ – матрица признаков. Задача – вычилить параметры алгоритма ($\\alpha$).\n",
    "\n",
    "$\\alpha^* = (F^TF)^{-1}F^Ty = F^+y$\n",
    "\n",
    "Матрица $F^+$ называется *псевдообратной*. Решив это уравнение, получим параметры алгоритма."
   ],
   "metadata": {
    "collapsed": false,
    "pycharm": {
     "name": "#%% md\n",
     "is_executing": false
    }
   }
  },
  {
   "cell_type": "code",
   "execution_count": 346,
   "outputs": [
    {
     "data": {
      "text/plain": "<Figure size 720x504 with 1 Axes>",
      "image/png": "[encoded data removed]"
     },
     "metadata": {
      "needs_background": "light"
     },
     "output_type": "display_data"
    },
    {
     "name": "stdout",
     "text": [
      "158.63600738149242\n"
     ],
     "output_type": "stream"
    }
   ],
   "source": [
    "X, y = boston_dataset['data'], boston_dataset['target']\n",
    "X = X[:,7]\n",
    "X = X.reshape((len(X), 1))\n",
    "y = y.reshape((len(y), 1))\n",
    "\n",
    "\n",
    "w = inv(X.T.dot(X)).dot(X.T).dot(y)\n",
    "yhat = X.dot(w)\n",
    "\n",
    "\n",
    "pyplot.scatter(X, y)\n",
    "pyplot.plot(X,yhat,c='red')\n",
    "pyplot.show()\n",
    "print(mean_squared_error(y,yhat))"
   ],
   "metadata": {
    "collapsed": false,
    "pycharm": {
     "name": "#%%  \n",
     "is_executing": false
    }
   }
  },
  {
   "cell_type": "markdown",
   "source": [],
   "metadata": {
    "collapsed": false
   }
  },
  {
   "cell_type": "code",
   "execution_count": 367,
   "outputs": [
    {
     "name": "stdout",
     "text": [
      "Вектор параметров: [-9.28965170e-02  4.87149552e-02 -4.05997958e-03  2.85399882e+00\n -2.86843637e+00  5.92814778e+00 -7.26933458e-03 -9.68514157e-01\n  1.71151128e-01 -9.39621540e-03 -3.92190926e-01  1.49056102e-02\n -4.16304471e-01]\nФункционал качества = 24.166099330126492\n"
     ],
     "output_type": "stream"
    }
   ],
   "source": [
    "X, y = boston_dataset['data'], boston_dataset['target']\n",
    "w = inv(X.T.dot(X)).dot(X.T).dot(y)\n",
    "yhat = X.dot(w)\n",
    "main_score = mean_squared_error(y,yhat)\n",
    "print(f\"Вектор параметров: {w}\")\n",
    "print(f\"Функционал качества = {main_score}\")"
   ],
   "metadata": {
    "collapsed": false,
    "pycharm": {
     "name": "#%%\n",
     "is_executing": false
    }
   }
  },
  {
   "cell_type": "markdown",
   "source": [
    "### Как мы видим имеем неплохой score. \n",
    "\n",
    "Попробуем применить L1 и L2 регуляризацию к линейной регресии и посмотрим на результат.\n",
    "\n",
    "Где для гребневной регресии добавляется слагаемое как штраф\n",
    " \n",
    " $\\alpha^* = (F^TF +\\lambda I)^{-1}F^Ty = F^+y$\n",
    "\n",
    "А для lasso для каждого элемента из a* нужно иттерационно выполнять регуляризацию такого вида: \n",
    "$ a*(\\lambda) = sign(a_j)(|a_j|-\\frac{1}{2}*\\lambda)_+$\n",
    "\n",
    "где $f(x)  = (x)_+ = max(x,0)$\n",
    "\n",
    "за параметра штрафа lambda выберем рекомендованное значение 0.4"
   ],
   "metadata": {
    "collapsed": false
   }
  },
  {
   "cell_type": "code",
   "execution_count": 392,
   "outputs": [
    {
     "name": "stdout",
     "text": [
      "Вектор параметров без регуляризации:\n [-9.28965170e-02  4.87149552e-02 -4.05997958e-03  2.85399882e+00\n -2.86843637e+00  5.92814778e+00 -7.26933458e-03 -9.68514157e-01\n  1.71151128e-01 -9.39621540e-03 -3.92190926e-01  1.49056102e-02\n -4.16304471e-01]\n\nВектор параметров с Ridge:\n [-0.09279587  0.04886228 -0.00642271  2.81223543 -2.37790386  5.899925\n -0.00761125 -0.96418052  0.17146392 -0.00949698 -0.3911286   0.01488668\n -0.41905197]\n\nВектор параметров с Lasso>: \n[0, 0, 0, 0.45399881999396324, 0.8684363704140385, 3.5281477790530076, 0, 0, 0, 0, 0, 0, 0]\n\n"
     ],
     "output_type": "stream"
    }
   ],
   "source": [
    "def sign(condition):\n",
    "    return condition if condition > 0 else 0\n",
    "\n",
    "lmbd = 0.4\n",
    "\n",
    "\n",
    "X, y = boston_dataset['data'], boston_dataset['target']\n",
    "w1 = inv(X.T.dot(X)+lmbd*np.eye(X.shape[1])).dot(X.T).dot(y)\n",
    "w2 = inv(X.T.dot(X)).dot(X.T).dot(y)\n",
    "yhat = X.dot(w1)\n",
    "score1 = mean_squared_error(y,yhat) \n",
    "current = 10**8\n",
    "w_graph = []\n",
    "for _ in range(20):\n",
    "    new_w2 =[]\n",
    "    for i in w2:\n",
    "        i = sign((np.sign(i))*(i-(1/2)*lmbd))\n",
    "        new_w2.append(i)\n",
    "    yhat = X.dot(new_w2)\n",
    "    if mean_squared_error(y,yhat) > current:\n",
    "        break\n",
    "    current = mean_squared_error(y,yhat) \n",
    "    w2 = new_w2\n",
    "    w_graph.append(new_w2)\n",
    "    yhat = X.dot(w2)\n",
    "    score2 = current\n",
    "\n",
    "\n",
    "\n",
    "\n",
    "\n",
    "print(f\"Вектор параметров без регуляризации:\\n {w}\\n\")\n",
    "print(f\"Вектор параметров с Ridge:\\n {w1}\\n\")\n",
    "print(f\"Вектор параметров с Lasso>: \\n{w2}\\n\")"
   ],
   "metadata": {
    "collapsed": false,
    "pycharm": {
     "name": "#%%\n",
     "is_executing": false
    }
   }
  },
  {
   "cell_type": "markdown",
   "source": [
    "#### Как мы могли заметить, Ridge помог нам значительно уменьшить значения вектора параметров, что может помогать бороться с шумом.\n",
    "\n",
    "#### При этом Lasso сделал тоже самое, при этом отобросил наименее полезные признаки."
   ],
   "metadata": {
    "collapsed": false
   }
  },
  {
   "cell_type": "code",
   "execution_count": 393,
   "outputs": [
    {
     "name": "stdout",
     "text": [
      "Score до регуляризации:\n 24.166099330126492\n\nScore после Ridge:\n 24.167248557457345\n\nScore после Lasso>: \n59.277170062087244\n\n"
     ],
     "output_type": "stream"
    }
   ],
   "source": [
    "print(f\"Score до регуляризации:\\n {main_score}\\n\")\n",
    "print(f\"Score после Ridge:\\n {score1}\\n\")\n",
    "print(f\"Score после Lasso>: \\n{score2}\\n\")\n",
    "\n",
    "  "
   ],
   "metadata": {
    "collapsed": false,
    "pycharm": {
     "name": "#%% \n",
     "is_executing": false
    }
   }
  },
  {
   "cell_type": "markdown",
   "source": [
    "#### Как можно заметить зануление признаков Lasso  может негативно сказаться на score, однако мы использовали не все, а только наиболее важные признаки.\n",
    "\n",
    "#### Отрисуем график отбора признаков"
   ],
   "metadata": {
    "collapsed": false,
    "pycharm": {
     "name": "#%% md\n",
     "is_executing": false
    }
   }
  },
  {
   "cell_type": "code",
   "execution_count": 394,
   "outputs": [
    {
     "data": {
      "text/plain": "(array([-1.,  0.,  1.,  2.,  3.,  4.,  5.,  6.,  7.]),\n <a list of 9 Text yticklabel objects>)"
     },
     "metadata": {},
     "output_type": "execute_result",
     "execution_count": 394
    },
    {
     "data": {
      "text/plain": "<Figure size 720x504 with 1 Axes>",
      "image/png": "[encoded data removed]"
     },
     "metadata": {
      "needs_background": "light"
     },
     "output_type": "display_data"
    }
   ],
   "source": [
    "pyplot.rcParams[\"figure.figsize\"] = [10,7]\n",
    "df = pd.DataFrame(w_graph)\n",
    "pyplot.plot(range(len(w_graph)),df)\n",
    "pyplot.title('Feature selection', fontsize = 32)\n",
    "pyplot.xticks(fontsize=22,c='green')\n",
    "pyplot.yticks(fontsize=22,c='green')\n",
    "\n",
    "\n",
    "\n"
   ],
   "metadata": {
    "collapsed": false,
    "pycharm": {
     "name": "#%%\n",
     "is_executing": false
    }
   }
  },
  {
   "cell_type": "markdown",
   "source": [
    "\n",
    "### Решение через SVD\n",
    "\n",
    "Принцип *SVD* заключается в том, чтобы разложить $F$ на 3 матрицы:\n",
    "\n",
    "$F = VDU^T$\n",
    "\n",
    "$D$ – диагональная матрица собственных значений $F^TF$\n",
    "\n",
    "$V$ – ортогональная матрица $l \\times n$\n",
    "\n",
    "$U$ – ортогональная матрица $n \\times n$\n",
    "\n",
    "Проделав сингулярное разбиение, можно вычислить параметры алгоритма:\n",
    "\n",
    "$a^* = F^+y = UD^{-1}V^Ty$"
   ],
   "metadata": {
    "collapsed": false,
    "pycharm": {
     "name": "#%% md\n"
    }
   }
  },
  {
   "cell_type": "code",
   "execution_count": 397,
   "outputs": [
    {
     "name": "stdout",
     "text": [
      "Score с SVD = 24.166099330126492\n"
     ],
     "output_type": "stream"
    }
   ],
   "source": [
    "V, D, U = np.linalg.svd(X, full_matrices=False)\n",
    "U = np.transpose(U)\n",
    "D = np.diag(D)\n",
    "pseudo_inverse = np.dot(np.dot(U, np.linalg.inv(D)), np.transpose(V))\n",
    "w = np.dot(pseudo_inverse, y)\n",
    "yhat = np.dot(X, w) \n",
    "print(f\"Score с SVD = {mean_squared_error(y,yhat)}\")"
   ],
   "metadata": {
    "collapsed": false,
    "pycharm": {
     "name": "#%%\n",
     "is_executing": false
    }
   }
  },
  {
   "cell_type": "markdown",
   "source": [
    "## В итоге, оба метода отличаются лишь способом разрешения матричного уравнения, но оба способа не отличаются друг от друга по результативности."
   ],
   "metadata": {
    "collapsed": false,
    "pycharm": {
     "name": "#%% md\n"
    }
   }
  }
 ],
 "metadata": {
  "kernelspec": {
   "display_name": "Python 3",
   "language": "python",
   "name": "python3"
  },
  "language_info": {
   "codemirror_mode": {
    "name": "ipython",
    "version": 2
   },
   "file_extension": ".py",
   "mimetype": "text/x-python",
   "name": "python",
   "nbconvert_exporter": "python",
   "pygments_lexer": "ipython2",
   "version": "2.7.6"
  },
  "pycharm": {
   "stem_cell": {
    "cell_type": "raw",
    "source": [],
    "metadata": {
     "collapsed": false
    }
   }
  }
 },
 "nbformat": 4,
 "nbformat_minor": 0
}